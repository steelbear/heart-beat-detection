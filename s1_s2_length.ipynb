{
 "cells": [
  {
   "cell_type": "code",
   "execution_count": 2,
   "id": "initial_id",
   "metadata": {
    "collapsed": true,
    "ExecuteTime": {
     "end_time": "2023-10-25T01:50:31.623924800Z",
     "start_time": "2023-10-25T01:50:22.998157300Z"
    }
   },
   "outputs": [],
   "source": [
    "import os\n",
    "import pandas as pd\n",
    "\n",
    "import torch\n",
    "import torchaudio"
   ]
  },
  {
   "cell_type": "code",
   "execution_count": 3,
   "outputs": [
    {
     "data": {
      "text/plain": "   Unnamed: 0     id    AV    PV    TV    MV    Phc    Age     Sex  Height  \\\n0           0  13918  True  True  True  True  False  Child    Male    98.0   \n1           1  14241  True  True  True  True  False  Child    Male    87.0   \n2           2  14998  True  True  True  True  False  Child    Male     NaN   \n3           3  23625  True  True  True  True  False  Child  Female    92.0   \n4           4  24160  True  True  True  True  False  Child  Female    98.0   \n\n   ...  Systolic murmur pitch  Systolic murmur quality  \\\n0  ...                    Low                  Blowing   \n1  ...                    Low                    Harsh   \n2  ...                    NaN                      NaN   \n3  ...                    NaN                      NaN   \n4  ...                    NaN                      NaN   \n\n  Diastolic murmur timing Diastolic murmur shape Diastolic murmur grading  \\\n0                     NaN                    NaN                      NaN   \n1                     NaN                    NaN                      NaN   \n2                     NaN                    NaN                      NaN   \n3                     NaN                    NaN                      NaN   \n4                     NaN                    NaN                      NaN   \n\n  Diastolic murmur pitch Diastolic murmur quality   Outcome Campaign  \\\n0                    NaN                      NaN  Abnormal   CC2015   \n1                    NaN                      NaN  Abnormal   CC2015   \n2                    NaN                      NaN  Abnormal   CC2015   \n3                    NaN                      NaN  Abnormal   CC2015   \n4                    NaN                      NaN  Abnormal   CC2015   \n\n  Additional ID  \n0           NaN  \n1           NaN  \n2           NaN  \n3       50379.0  \n4           NaN  \n\n[5 rows x 28 columns]",
      "text/html": "<div>\n<style scoped>\n    .dataframe tbody tr th:only-of-type {\n        vertical-align: middle;\n    }\n\n    .dataframe tbody tr th {\n        vertical-align: top;\n    }\n\n    .dataframe thead th {\n        text-align: right;\n    }\n</style>\n<table border=\"1\" class=\"dataframe\">\n  <thead>\n    <tr style=\"text-align: right;\">\n      <th></th>\n      <th>Unnamed: 0</th>\n      <th>id</th>\n      <th>AV</th>\n      <th>PV</th>\n      <th>TV</th>\n      <th>MV</th>\n      <th>Phc</th>\n      <th>Age</th>\n      <th>Sex</th>\n      <th>Height</th>\n      <th>...</th>\n      <th>Systolic murmur pitch</th>\n      <th>Systolic murmur quality</th>\n      <th>Diastolic murmur timing</th>\n      <th>Diastolic murmur shape</th>\n      <th>Diastolic murmur grading</th>\n      <th>Diastolic murmur pitch</th>\n      <th>Diastolic murmur quality</th>\n      <th>Outcome</th>\n      <th>Campaign</th>\n      <th>Additional ID</th>\n    </tr>\n  </thead>\n  <tbody>\n    <tr>\n      <th>0</th>\n      <td>0</td>\n      <td>13918</td>\n      <td>True</td>\n      <td>True</td>\n      <td>True</td>\n      <td>True</td>\n      <td>False</td>\n      <td>Child</td>\n      <td>Male</td>\n      <td>98.0</td>\n      <td>...</td>\n      <td>Low</td>\n      <td>Blowing</td>\n      <td>NaN</td>\n      <td>NaN</td>\n      <td>NaN</td>\n      <td>NaN</td>\n      <td>NaN</td>\n      <td>Abnormal</td>\n      <td>CC2015</td>\n      <td>NaN</td>\n    </tr>\n    <tr>\n      <th>1</th>\n      <td>1</td>\n      <td>14241</td>\n      <td>True</td>\n      <td>True</td>\n      <td>True</td>\n      <td>True</td>\n      <td>False</td>\n      <td>Child</td>\n      <td>Male</td>\n      <td>87.0</td>\n      <td>...</td>\n      <td>Low</td>\n      <td>Harsh</td>\n      <td>NaN</td>\n      <td>NaN</td>\n      <td>NaN</td>\n      <td>NaN</td>\n      <td>NaN</td>\n      <td>Abnormal</td>\n      <td>CC2015</td>\n      <td>NaN</td>\n    </tr>\n    <tr>\n      <th>2</th>\n      <td>2</td>\n      <td>14998</td>\n      <td>True</td>\n      <td>True</td>\n      <td>True</td>\n      <td>True</td>\n      <td>False</td>\n      <td>Child</td>\n      <td>Male</td>\n      <td>NaN</td>\n      <td>...</td>\n      <td>NaN</td>\n      <td>NaN</td>\n      <td>NaN</td>\n      <td>NaN</td>\n      <td>NaN</td>\n      <td>NaN</td>\n      <td>NaN</td>\n      <td>Abnormal</td>\n      <td>CC2015</td>\n      <td>NaN</td>\n    </tr>\n    <tr>\n      <th>3</th>\n      <td>3</td>\n      <td>23625</td>\n      <td>True</td>\n      <td>True</td>\n      <td>True</td>\n      <td>True</td>\n      <td>False</td>\n      <td>Child</td>\n      <td>Female</td>\n      <td>92.0</td>\n      <td>...</td>\n      <td>NaN</td>\n      <td>NaN</td>\n      <td>NaN</td>\n      <td>NaN</td>\n      <td>NaN</td>\n      <td>NaN</td>\n      <td>NaN</td>\n      <td>Abnormal</td>\n      <td>CC2015</td>\n      <td>50379.0</td>\n    </tr>\n    <tr>\n      <th>4</th>\n      <td>4</td>\n      <td>24160</td>\n      <td>True</td>\n      <td>True</td>\n      <td>True</td>\n      <td>True</td>\n      <td>False</td>\n      <td>Child</td>\n      <td>Female</td>\n      <td>98.0</td>\n      <td>...</td>\n      <td>NaN</td>\n      <td>NaN</td>\n      <td>NaN</td>\n      <td>NaN</td>\n      <td>NaN</td>\n      <td>NaN</td>\n      <td>NaN</td>\n      <td>Abnormal</td>\n      <td>CC2015</td>\n      <td>NaN</td>\n    </tr>\n  </tbody>\n</table>\n<p>5 rows × 28 columns</p>\n</div>"
     },
     "execution_count": 3,
     "metadata": {},
     "output_type": "execute_result"
    }
   ],
   "source": [
    "positions = ['AV', 'MV', 'TV', 'PV']\n",
    "\n",
    "patients_df = pd.read_csv('dataset/data.csv')\n",
    "patients_df.head()"
   ],
   "metadata": {
    "collapsed": false,
    "ExecuteTime": {
     "end_time": "2023-10-25T01:50:31.717252200Z",
     "start_time": "2023-10-25T01:50:31.627925Z"
    }
   },
   "id": "2e03287fb72a1129"
  },
  {
   "cell_type": "code",
   "execution_count": 4,
   "outputs": [
    {
     "data": {
      "text/plain": "          0         1  2\n0  0.000000  1.146750  0\n1  1.146750  1.300191  1\n2  1.300191  1.400191  2\n3  1.400191  1.540191  3\n4  1.540191  1.779916  4",
      "text/html": "<div>\n<style scoped>\n    .dataframe tbody tr th:only-of-type {\n        vertical-align: middle;\n    }\n\n    .dataframe tbody tr th {\n        vertical-align: top;\n    }\n\n    .dataframe thead th {\n        text-align: right;\n    }\n</style>\n<table border=\"1\" class=\"dataframe\">\n  <thead>\n    <tr style=\"text-align: right;\">\n      <th></th>\n      <th>0</th>\n      <th>1</th>\n      <th>2</th>\n    </tr>\n  </thead>\n  <tbody>\n    <tr>\n      <th>0</th>\n      <td>0.000000</td>\n      <td>1.146750</td>\n      <td>0</td>\n    </tr>\n    <tr>\n      <th>1</th>\n      <td>1.146750</td>\n      <td>1.300191</td>\n      <td>1</td>\n    </tr>\n    <tr>\n      <th>2</th>\n      <td>1.300191</td>\n      <td>1.400191</td>\n      <td>2</td>\n    </tr>\n    <tr>\n      <th>3</th>\n      <td>1.400191</td>\n      <td>1.540191</td>\n      <td>3</td>\n    </tr>\n    <tr>\n      <th>4</th>\n      <td>1.540191</td>\n      <td>1.779916</td>\n      <td>4</td>\n    </tr>\n  </tbody>\n</table>\n</div>"
     },
     "execution_count": 4,
     "metadata": {},
     "output_type": "execute_result"
    }
   ],
   "source": [
    "label_df = pd.read_csv('dataset/training_data/13918_AV.tsv', delimiter='\\t', header=None)\n",
    "label_df.head()"
   ],
   "metadata": {
    "collapsed": false,
    "ExecuteTime": {
     "end_time": "2023-10-25T01:50:31.833749100Z",
     "start_time": "2023-10-25T01:50:31.719242700Z"
    }
   },
   "id": "7ffcf9175c075ff7"
  },
  {
   "cell_type": "code",
   "execution_count": 5,
   "outputs": [],
   "source": [
    "import csv\n",
    "import glob\n",
    "\n",
    "# 각 음성 데이터별 s1, s2 소리 길이의 평균과 표준편차 구하기\n",
    "f = open('s1_s2_length.csv', 'w', newline='')\n",
    "writer = csv.writer(f)\n",
    "writer.writerow(['filename', 's1_count', 's1_mean', 's1_std', 's2_count', 's2_mean', 's2_std'])\n",
    "\n",
    "tsv_paths = glob.glob('./dataset/training_data/*.tsv')\n",
    "\n",
    "for tsv_path in tsv_paths:\n",
    "    tsv_filename = os.path.abspath(tsv_path)\n",
    "    label_df = pd.read_csv(tsv_filename, delimiter='\\t', header=None)\n",
    "    s1_df = label_df[label_df[2] == 1]\n",
    "    s2_df = label_df[label_df[2] == 3]\n",
    "    s1_length_s = s1_df[1] - s1_df[0]\n",
    "    s2_length_s = s2_df[1] - s2_df[0]\n",
    "\n",
    "    s1_count = s1_length_s.count()\n",
    "    s1_mean = s1_length_s.mean()\n",
    "    s1_std = s1_length_s.std()\n",
    "    s2_count = s2_length_s.count()\n",
    "    s2_mean = s2_length_s.mean()\n",
    "    s2_std = s2_length_s.std()\n",
    "    writer.writerow([os.path.basename(tsv_path)[:-4], s1_count, s1_mean, s1_std, s2_count, s2_mean, s2_std])\n",
    "            \n",
    "f.close()"
   ],
   "metadata": {
    "collapsed": false,
    "ExecuteTime": {
     "end_time": "2023-10-25T01:50:46.504248400Z",
     "start_time": "2023-10-25T01:50:31.753744800Z"
    }
   },
   "id": "51ff9a7c50b3c146"
  },
  {
   "cell_type": "code",
   "execution_count": 6,
   "outputs": [
    {
     "data": {
      "text/plain": "   filename  s1_count   s1_mean    s1_std  s2_count   s2_mean    s2_std\n0  13918_AV        15  0.147792  0.017113        15  0.124115  0.018223\n1  13918_MV        11  0.101109  0.013703        10  0.078204  0.004823\n2  13918_PV         9  0.111568  0.009613         9  0.103588  0.013194\n3  13918_TV        10  0.125168  0.015879        10  0.116000  0.015776\n4  14241_AV        13  0.106689  0.019819        13  0.095834  0.013956",
      "text/html": "<div>\n<style scoped>\n    .dataframe tbody tr th:only-of-type {\n        vertical-align: middle;\n    }\n\n    .dataframe tbody tr th {\n        vertical-align: top;\n    }\n\n    .dataframe thead th {\n        text-align: right;\n    }\n</style>\n<table border=\"1\" class=\"dataframe\">\n  <thead>\n    <tr style=\"text-align: right;\">\n      <th></th>\n      <th>filename</th>\n      <th>s1_count</th>\n      <th>s1_mean</th>\n      <th>s1_std</th>\n      <th>s2_count</th>\n      <th>s2_mean</th>\n      <th>s2_std</th>\n    </tr>\n  </thead>\n  <tbody>\n    <tr>\n      <th>0</th>\n      <td>13918_AV</td>\n      <td>15</td>\n      <td>0.147792</td>\n      <td>0.017113</td>\n      <td>15</td>\n      <td>0.124115</td>\n      <td>0.018223</td>\n    </tr>\n    <tr>\n      <th>1</th>\n      <td>13918_MV</td>\n      <td>11</td>\n      <td>0.101109</td>\n      <td>0.013703</td>\n      <td>10</td>\n      <td>0.078204</td>\n      <td>0.004823</td>\n    </tr>\n    <tr>\n      <th>2</th>\n      <td>13918_PV</td>\n      <td>9</td>\n      <td>0.111568</td>\n      <td>0.009613</td>\n      <td>9</td>\n      <td>0.103588</td>\n      <td>0.013194</td>\n    </tr>\n    <tr>\n      <th>3</th>\n      <td>13918_TV</td>\n      <td>10</td>\n      <td>0.125168</td>\n      <td>0.015879</td>\n      <td>10</td>\n      <td>0.116000</td>\n      <td>0.015776</td>\n    </tr>\n    <tr>\n      <th>4</th>\n      <td>14241_AV</td>\n      <td>13</td>\n      <td>0.106689</td>\n      <td>0.019819</td>\n      <td>13</td>\n      <td>0.095834</td>\n      <td>0.013956</td>\n    </tr>\n  </tbody>\n</table>\n</div>"
     },
     "execution_count": 6,
     "metadata": {},
     "output_type": "execute_result"
    }
   ],
   "source": [
    "s1s2_length_df = pd.read_csv('s1_s2_length.csv')\n",
    "s1s2_length_df.head()"
   ],
   "metadata": {
    "collapsed": false,
    "ExecuteTime": {
     "end_time": "2023-10-25T01:50:46.554443700Z",
     "start_time": "2023-10-25T01:50:46.506250200Z"
    }
   },
   "id": "dcf0cfbfcbdeab7a"
  },
  {
   "cell_type": "code",
   "execution_count": 7,
   "outputs": [
    {
     "name": "stdout",
     "output_type": "stream",
     "text": [
      "s1 mean: 0.11916449658236496 s2 mean: 0.10533918449571063\n"
     ]
    }
   ],
   "source": [
    "s1_length_total_mean = (s1s2_length_df['s1_mean'] * s1s2_length_df['s1_count']).sum() / s1s2_length_df['s1_count'].sum()\n",
    "s2_length_total_mean = (s1s2_length_df['s2_mean'] * s1s2_length_df['s2_count']).sum() / s1s2_length_df['s2_count'].sum()\n",
    "\n",
    "print('s1 mean:', s1_length_total_mean, 's2 mean:', s2_length_total_mean)"
   ],
   "metadata": {
    "collapsed": false,
    "ExecuteTime": {
     "end_time": "2023-10-25T01:50:46.631444600Z",
     "start_time": "2023-10-25T01:50:46.555443200Z"
    }
   },
   "id": "a48d74b08a2e4ad8"
  },
  {
   "cell_type": "code",
   "execution_count": 24,
   "outputs": [
    {
     "name": "stdout",
     "output_type": "stream",
     "text": [
      "s1 std: 0.024126766466607278 s2 std: 0.02370798587163986\n"
     ]
    }
   ],
   "source": [
    "import math\n",
    "\n",
    "s1_expect_x_square = ((s1s2_length_df['s1_std'] ** 2 + s1s2_length_df['s1_mean'] ** 2) * s1s2_length_df['s1_count']).sum() / s1s2_length_df['s1_count'].sum()\n",
    "s2_expect_x_square = ((s1s2_length_df['s2_std'] ** 2 + s1s2_length_df['s2_mean'] ** 2) * s1s2_length_df['s2_count']).sum() / s1s2_length_df['s2_count'].sum()\n",
    "\n",
    "s1_expect_x = (s1s2_length_df['s1_mean'] * s1s2_length_df['s1_count']).sum() / s1s2_length_df['s1_count'].sum()\n",
    "s2_expect_x = (s1s2_length_df['s2_mean'] * s1s2_length_df['s2_count']).sum() / s1s2_length_df['s2_count'].sum()\n",
    "\n",
    "s1_x_total_std = math.sqrt(s1_expect_x_square - s1_expect_x ** 2)\n",
    "s2_x_total_std = math.sqrt(s2_expect_x_square - s2_expect_x ** 2)\n",
    "\n",
    "print('s1 std:', s1_x_total_std, 's2 std:', s2_x_total_std)"
   ],
   "metadata": {
    "collapsed": false,
    "ExecuteTime": {
     "end_time": "2023-10-25T03:19:10.261918100Z",
     "start_time": "2023-10-25T03:19:10.056169500Z"
    }
   },
   "id": "a6d662521c17060d"
  },
  {
   "cell_type": "code",
   "execution_count": null,
   "outputs": [],
   "source": [],
   "metadata": {
    "collapsed": false
   },
   "id": "eea7fb6e4a2b85cc"
  }
 ],
 "metadata": {
  "kernelspec": {
   "display_name": "Python 3",
   "language": "python",
   "name": "python3"
  },
  "language_info": {
   "codemirror_mode": {
    "name": "ipython",
    "version": 2
   },
   "file_extension": ".py",
   "mimetype": "text/x-python",
   "name": "python",
   "nbconvert_exporter": "python",
   "pygments_lexer": "ipython2",
   "version": "2.7.6"
  }
 },
 "nbformat": 4,
 "nbformat_minor": 5
}
