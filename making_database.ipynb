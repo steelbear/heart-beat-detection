{
 "cells": [
  {
   "cell_type": "code",
   "execution_count": 13,
   "id": "7fe75c60",
   "metadata": {},
   "outputs": [
    {
     "ename": "ImportError",
     "evalue": "cannot import name 'download_url_to_file' from 'torchaudio._internal' (/opt/conda/lib/python3.9/site-packages/torchaudio/_internal/__init__.py)",
     "output_type": "error",
     "traceback": [
      "\u001b[0;31m---------------------------------------------------------------------------\u001b[0m",
      "\u001b[0;31mImportError\u001b[0m                               Traceback (most recent call last)",
      "\u001b[0;32m/tmp/ipykernel_54/2631862852.py\u001b[0m in \u001b[0;36m<module>\u001b[0;34m\u001b[0m\n\u001b[1;32m      9\u001b[0m \u001b[0;34m\u001b[0m\u001b[0m\n\u001b[1;32m     10\u001b[0m \u001b[0;32mfrom\u001b[0m \u001b[0mtorch\u001b[0m\u001b[0;34m.\u001b[0m\u001b[0mutils\u001b[0m\u001b[0;34m.\u001b[0m\u001b[0mdata\u001b[0m \u001b[0;32mimport\u001b[0m \u001b[0mDataset\u001b[0m\u001b[0;34m\u001b[0m\u001b[0;34m\u001b[0m\u001b[0m\n\u001b[0;32m---> 11\u001b[0;31m \u001b[0;32mfrom\u001b[0m \u001b[0mtorchaudio\u001b[0m\u001b[0;34m.\u001b[0m\u001b[0m_internal\u001b[0m \u001b[0;32mimport\u001b[0m \u001b[0mdownload_url_to_file\u001b[0m\u001b[0;34m\u001b[0m\u001b[0;34m\u001b[0m\u001b[0m\n\u001b[0m\u001b[1;32m     12\u001b[0m \u001b[0;32mfrom\u001b[0m \u001b[0mtorchaudio\u001b[0m\u001b[0;34m.\u001b[0m\u001b[0mdatasets\u001b[0m\u001b[0;34m.\u001b[0m\u001b[0mutils\u001b[0m \u001b[0;32mimport\u001b[0m \u001b[0m_extract_zip\u001b[0m\u001b[0;34m\u001b[0m\u001b[0;34m\u001b[0m\u001b[0m\n",
      "\u001b[0;31mImportError\u001b[0m: cannot import name 'download_url_to_file' from 'torchaudio._internal' (/opt/conda/lib/python3.9/site-packages/torchaudio/_internal/__init__.py)"
     ]
    }
   ],
   "source": [
    "import os\n",
    "from pathlib import Path\n",
    "\n",
    "import pandas as pd\n",
    "from typing import Tuple, Union\n",
    "\n",
    "import torch\n",
    "import torchaudio\n",
    "\n",
    "from torch.utils.data import Dataset\n",
    "from torchaudio._internal import download_url_to_file\n",
    "from torchaudio.datasets.utils import _extract_zip"
   ]
  },
  {
   "cell_type": "code",
   "execution_count": 10,
   "id": "2cb35fcd",
   "metadata": {},
   "outputs": [],
   "source": [
    "_RELEASE_CONFIGS = {\n",
    "    'release1': {\n",
    "        \"folder_in_archive\": \"the-circor-digiscope-phonocardiogram-dataset-1.0.3/training_data\",\n",
    "        \"url\": \"https://physionet.org/static/published-projects/circor-heart-sound/the-circor-digiscope-phonocardiogram-dataset-1.0.3.zip\"\n",
    "    }\n",
    "}\n",
    "\n",
    "class Phonocardiogram(Dataset):\n",
    "    def __init__(\n",
    "        self,\n",
    "        root: Union[str, Path],\n",
    "        url: str = _RELEASE_CONFIGS['release1']['url'],\n",
    "        folder_in_archive: str = _RELEASE_CONFIGS['release1']['folder_in_archive'],\n",
    "        download: bool = False,\n",
    "    ) -> None:\n",
    "        self._root = Path(root)\n",
    "        self._dataset_dir = self._root / folder_in_archive\n",
    "        \n",
    "        archive = os.path.basename(url)\n",
    "        archive = self._root / archive\n",
    "        \n",
    "        if download:\n",
    "            if not os.path.isdir(self._dataset_dir):\n",
    "                if not os.path.isfile(archive):\n",
    "                    download_url_to_file(url, archive)I \n",
    "                _extract_zip(archive)\n",
    "        \n",
    "        if not os.path.isdir(self._dataset_dir):\n",
    "            raise RuntimeError(\"Dataset not found. Please use `download=True` to download it.\")\n",
    "        \n",
    "        self._patient_ids = [p.stem for p in self._dataset_dir.glob('*.wav')]\n",
    "    \n",
    "    def __getitem__(self, n: int) -> Tuple[torch.Tensor, int, torch.Tensor, torch.Tensor]:\n",
    "        patient_id = self._patient_ids[n]\n",
    "        wav_path = self._dataset_dir / (patient_id + '.wav')\n",
    "        tsv_path = self._dataset_dir / (patient_id + '.tsv')\n",
    "        \n",
    "        waveform, sample_rate = torchaudio.load(wav_path)\n",
    "        \n",
    "        labels_df = pd.read_csv(tsv_path, delimiter='\\t', header=None)\n",
    "        s1_ranges = torch.tensor(labels_df[labels_df[2] == 1].drop(2, axis=1).values)\n",
    "        s2_ranges = torch.tensor(labels_df[labels_df[2] == 3].drop(2, axis=1).values)\n",
    "        \n",
    "        return waveform, sample_rate, s1_ranges, s2_ranges\n",
    "    \n",
    "    def __len__(self) -> int:\n",
    "        return len(self._patient_ids)"
   ]
  },
  {
   "cell_type": "code",
   "execution_count": 12,
   "id": "dd3945f6",
   "metadata": {},
   "outputs": [
    {
     "ename": "NameError",
     "evalue": "name 'download_url_to_file' is not defined",
     "output_type": "error",
     "traceback": [
      "\u001b[0;31m---------------------------------------------------------------------------\u001b[0m",
      "\u001b[0;31mNameError\u001b[0m                                 Traceback (most recent call last)",
      "\u001b[0;32m/tmp/ipykernel_54/1034195109.py\u001b[0m in \u001b[0;36m<module>\u001b[0;34m\u001b[0m\n\u001b[0;32m----> 1\u001b[0;31m \u001b[0mdataset\u001b[0m \u001b[0;34m=\u001b[0m \u001b[0mPhonocardiogram\u001b[0m\u001b[0;34m(\u001b[0m\u001b[0mroot\u001b[0m\u001b[0;34m=\u001b[0m\u001b[0;34m'dataset'\u001b[0m\u001b[0;34m,\u001b[0m \u001b[0mdownload\u001b[0m\u001b[0;34m=\u001b[0m\u001b[0;32mTrue\u001b[0m\u001b[0;34m)\u001b[0m\u001b[0;34m\u001b[0m\u001b[0;34m\u001b[0m\u001b[0m\n\u001b[0m\u001b[1;32m      2\u001b[0m \u001b[0;34m\u001b[0m\u001b[0m\n\u001b[1;32m      3\u001b[0m \u001b[0mlen\u001b[0m\u001b[0;34m(\u001b[0m\u001b[0mdataset\u001b[0m\u001b[0;34m)\u001b[0m\u001b[0;34m\u001b[0m\u001b[0;34m\u001b[0m\u001b[0m\n",
      "\u001b[0;32m/tmp/ipykernel_54/703460582.py\u001b[0m in \u001b[0;36m__init__\u001b[0;34m(self, root, url, folder_in_archive, download)\u001b[0m\n\u001b[1;32m     23\u001b[0m             \u001b[0;32mif\u001b[0m \u001b[0;32mnot\u001b[0m \u001b[0mos\u001b[0m\u001b[0;34m.\u001b[0m\u001b[0mpath\u001b[0m\u001b[0;34m.\u001b[0m\u001b[0misdir\u001b[0m\u001b[0;34m(\u001b[0m\u001b[0mself\u001b[0m\u001b[0;34m.\u001b[0m\u001b[0m_dataset_dir\u001b[0m\u001b[0;34m)\u001b[0m\u001b[0;34m:\u001b[0m\u001b[0;34m\u001b[0m\u001b[0;34m\u001b[0m\u001b[0m\n\u001b[1;32m     24\u001b[0m                 \u001b[0;32mif\u001b[0m \u001b[0;32mnot\u001b[0m \u001b[0mos\u001b[0m\u001b[0;34m.\u001b[0m\u001b[0mpath\u001b[0m\u001b[0;34m.\u001b[0m\u001b[0misfile\u001b[0m\u001b[0;34m(\u001b[0m\u001b[0marchive\u001b[0m\u001b[0;34m)\u001b[0m\u001b[0;34m:\u001b[0m\u001b[0;34m\u001b[0m\u001b[0;34m\u001b[0m\u001b[0m\n\u001b[0;32m---> 25\u001b[0;31m                     \u001b[0mdownload_url_to_file\u001b[0m\u001b[0;34m(\u001b[0m\u001b[0murl\u001b[0m\u001b[0;34m,\u001b[0m \u001b[0marchive\u001b[0m\u001b[0;34m)\u001b[0m\u001b[0;34m\u001b[0m\u001b[0;34m\u001b[0m\u001b[0m\n\u001b[0m\u001b[1;32m     26\u001b[0m                 \u001b[0m_extract_zip\u001b[0m\u001b[0;34m(\u001b[0m\u001b[0marchive\u001b[0m\u001b[0;34m)\u001b[0m\u001b[0;34m\u001b[0m\u001b[0;34m\u001b[0m\u001b[0m\n\u001b[1;32m     27\u001b[0m \u001b[0;34m\u001b[0m\u001b[0m\n",
      "\u001b[0;31mNameError\u001b[0m: name 'download_url_to_file' is not defined"
     ]
    }
   ],
   "source": [
    "dataset = Phonocardiogram(root='dataset', download=True)\n",
    "\n",
    "len(dataset)"
   ]
  },
  {
   "cell_type": "code",
   "execution_count": null,
   "id": "62c6c6a3",
   "metadata": {},
   "outputs": [],
   "source": [
    "waveform, sample_rate, s1, s2 = dataset[1]"
   ]
  },
  {
   "cell_type": "code",
   "execution_count": null,
   "id": "8389bbcc",
   "metadata": {},
   "outputs": [],
   "source": [
    "print(waveform.shape, s1.shape, s2.shape)"
   ]
  },
  {
   "cell_type": "code",
   "execution_count": null,
   "id": "534625d8",
   "metadata": {},
   "outputs": [],
   "source": [
    "waveform, sample_rate, s1, s2"
   ]
  }
 ],
 "metadata": {
  "kernelspec": {
   "display_name": "Python 3 (ipykernel)",
   "language": "python",
   "name": "python3"
  },
  "language_info": {
   "codemirror_mode": {
    "name": "ipython",
    "version": 3
   },
   "file_extension": ".py",
   "mimetype": "text/x-python",
   "name": "python",
   "nbconvert_exporter": "python",
   "pygments_lexer": "ipython3",
   "version": "3.9.7"
  }
 },
 "nbformat": 4,
 "nbformat_minor": 5
}
