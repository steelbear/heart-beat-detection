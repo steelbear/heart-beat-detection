{
 "cells": [
  {
   "cell_type": "code",
   "execution_count": 37,
   "id": "8ba5ec74",
   "metadata": {},
   "outputs": [],
   "source": [
    "from pathlib import Path\n",
    "\n",
    "import pandas as pd\n",
    "from typing import Tuple, Union\n",
    "\n",
    "import torch\n",
    "import torchaudio\n",
    "\n",
    "from torch.utils.data import Dataset"
   ]
  },
  {
   "cell_type": "code",
   "execution_count": 43,
   "id": "d45ff737",
   "metadata": {},
   "outputs": [],
   "source": [
    "_RELEASE_CONFIGS = {\n",
    "    'release1': {\n",
    "        \"folder_in_archive\": \"the-circor-digiscope-phonocardiogram-dataset-1.0.3/training_data\",\n",
    "        \"url\": \"https://physionet.org/static/published-projects/circor-heart-sound/the-circor-digiscope-phonocardiogram-dataset-1.0.3.zip\"\n",
    "    }\n",
    "}\n",
    "\n",
    "class Phonocardiogram(Dataset):\n",
    "    def __init__(\n",
    "        self,\n",
    "        root: Union[str, Path],\n",
    "        url: str = _RELEASE_CONFIGS['release1']['url'],\n",
    "        folder_in_archive: str = _RELEASE_CONFIGS['release1']['folder_in_archive'],\n",
    "        download: bool = False,\n",
    "    ) -> None:\n",
    "        self._root = Path(root)\n",
    "        self._dataset_dir = self._root / folder_in_archive\n",
    "        self._patient_ids = [p.stem for p in self._dataset_dir.glob('*.wav')]\n",
    "    \n",
    "    def __getitem__(self, n: int) -> Tuple[torch.Tensor, int, torch.Tensor, torch.Tensor]:\n",
    "        patient_id = self._patient_ids[n]\n",
    "        wav_path = self._dataset_dir / (patient_id + '.wav')\n",
    "        tsv_path = self._dataset_dir / (patient_id + '.tsv')\n",
    "        \n",
    "        waveform, sample_rate = torchaudio.load(wav_path)\n",
    "        \n",
    "        labels_df = pd.read_csv(tsv_path, delimiter='\\t', header=None)\n",
    "        s1_ranges = torch.tensor(labels_df[labels_df[2] == 1].drop(2, axis=1).values)\n",
    "        s2_ranges = torch.tensor(labels_df[labels_df[2] == 3].drop(2, axis=1).values)\n",
    "        \n",
    "        return waveform, sample_rate, s1_ranges, s2_ranges\n",
    "    \n",
    "    def __len__(self) -> int:\n",
    "        return len(self._patient_ids)"
   ]
  },
  {
   "cell_type": "code",
   "execution_count": 44,
   "id": "60d1b164",
   "metadata": {},
   "outputs": [
    {
     "data": {
      "text/plain": [
       "3163"
      ]
     },
     "execution_count": 44,
     "metadata": {},
     "output_type": "execute_result"
    }
   ],
   "source": [
    "dataset = Phonocardiogram(root='dataset', folder_in_archive='training_data')\n",
    "\n",
    "len(dataset)"
   ]
  },
  {
   "cell_type": "code",
   "execution_count": 45,
   "id": "765a8899",
   "metadata": {},
   "outputs": [],
   "source": [
    "waveform, sample_rate, s1, s2 = dataset[1]"
   ]
  },
  {
   "cell_type": "code",
   "execution_count": 46,
   "id": "e78373ca",
   "metadata": {},
   "outputs": [
    {
     "name": "stdout",
     "output_type": "stream",
     "text": [
      "torch.Size([1, 79552]) torch.Size([27, 2]) torch.Size([26, 2])\n"
     ]
    }
   ],
   "source": [
    "print(waveform.shape, s1.shape, s2.shape)"
   ]
  },
  {
   "cell_type": "code",
   "execution_count": 47,
   "id": "746e50c3",
   "metadata": {},
   "outputs": [
    {
     "data": {
      "text/plain": [
       "(tensor([[-0.0272,  0.0637,  0.0013,  ...,  0.0000,  0.0040,  0.0138]]),\n",
       " 4000,\n",
       " tensor([[ 0.1052,  0.2602],\n",
       "         [ 0.6602,  0.7802],\n",
       "         [ 1.2002,  1.3202],\n",
       "         [ 1.7202,  1.8202],\n",
       "         [ 2.2402,  2.3602],\n",
       "         [ 2.7402,  2.8602],\n",
       "         [ 3.2602,  3.3802],\n",
       "         [ 3.7202,  3.8602],\n",
       "         [ 4.2402,  4.3602],\n",
       "         [ 4.7202,  4.8202],\n",
       "         [ 5.2002,  5.3202],\n",
       "         [ 5.7202,  5.8202],\n",
       "         [ 6.2202,  6.3402],\n",
       "         [ 6.7202,  6.8602],\n",
       "         [ 7.2402,  7.3802],\n",
       "         [ 7.7802,  7.8802],\n",
       "         [ 8.3002,  8.4202],\n",
       "         [ 8.8202,  8.9402],\n",
       "         [ 9.3602,  9.4602],\n",
       "         [ 9.8202, 10.0002],\n",
       "         [10.4202, 10.5802],\n",
       "         [10.9802, 11.0802],\n",
       "         [11.5002, 11.6202],\n",
       "         [12.0202, 12.1402],\n",
       "         [12.5402, 12.6602],\n",
       "         [13.0402, 13.1602],\n",
       "         [13.5202, 13.6402]], dtype=torch.float64),\n",
       " tensor([[ 0.3602,  0.4802],\n",
       "         [ 0.8802,  1.0002],\n",
       "         [ 1.4202,  1.5402],\n",
       "         [ 1.9202,  2.0602],\n",
       "         [ 2.4602,  2.5602],\n",
       "         [ 2.9802,  3.1002],\n",
       "         [ 3.4802,  3.5602],\n",
       "         [ 3.9402,  4.0602],\n",
       "         [ 4.4402,  4.5802],\n",
       "         [ 4.9202,  5.0202],\n",
       "         [ 5.4402,  5.5402],\n",
       "         [ 5.9430,  6.0402],\n",
       "         [ 6.4202,  6.5402],\n",
       "         [ 6.9602,  7.0602],\n",
       "         [ 7.4802,  7.6202],\n",
       "         [ 8.0002,  8.1202],\n",
       "         [ 8.5202,  8.6402],\n",
       "         [ 9.0602,  9.1802],\n",
       "         [ 9.5602,  9.6802],\n",
       "         [10.1002, 10.2402],\n",
       "         [10.6602, 10.8202],\n",
       "         [11.2002, 11.3202],\n",
       "         [11.7002, 11.8402],\n",
       "         [12.2602, 12.3602],\n",
       "         [12.7402, 12.8602],\n",
       "         [13.2402, 13.3602]], dtype=torch.float64))"
      ]
     },
     "execution_count": 47,
     "metadata": {},
     "output_type": "execute_result"
    }
   ],
   "source": [
    "waveform, sample_rate, s1, s2"
   ]
  },
  {
   "cell_type": "code",
   "execution_count": null,
   "id": "8a2dc682",
   "metadata": {},
   "outputs": [],
   "source": []
  }
 ],
 "metadata": {
  "kernelspec": {
   "display_name": "Python 3 (ipykernel)",
   "language": "python",
   "name": "python3"
  },
  "language_info": {
   "codemirror_mode": {
    "name": "ipython",
    "version": 3
   },
   "file_extension": ".py",
   "mimetype": "text/x-python",
   "name": "python",
   "nbconvert_exporter": "python",
   "pygments_lexer": "ipython3",
   "version": "3.9.7"
  }
 },
 "nbformat": 4,
 "nbformat_minor": 5
}
